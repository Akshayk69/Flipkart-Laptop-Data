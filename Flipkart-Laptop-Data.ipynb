{
 "cells": [
  {
   "cell_type": "code",
   "execution_count": 1,
   "metadata": {},
   "outputs": [],
   "source": [
    "import pandas as pd\n",
    "from tqdm import tqdm\n",
    "from bs4 import BeautifulSoup\n",
    "from selenium import webdriver\n",
    "import requests\n",
    "import numpy as np"
   ]
  },
  {
   "cell_type": "code",
   "execution_count": 2,
   "metadata": {},
   "outputs": [],
   "source": [
    "url='https://www.flipkart.com/laptops/pr?sid=6bo%2Cb5g&fm=neo%2Fmerchandising&iid=M_8b3b3f65-7ceb-4375-912c-d2bcdde87c58_1_372UD5BXDFYS_MC.34WHNYFH5V2Y&otracker1=hp_rich_navigation_PINNED_neo%2Fmerchandising_NA_NAV_EXPANDABLE_navigationCard_cc_13_L1_view-all&cid=34WHNYFH5V2Y&p%5B%5D=facets.brand%255B%255D%3DAPPLE&otracker=clp_metro_expandable_6_26.metroExpandable.METRO_EXPANDABLE_Apple_laptops-store_SKIHMOPFPDC3_wp9&fm=neo%2Fmerchandising&iid=M_b4d0e2ef-aaac-4e7e-9272-9b8be53c2dc5_26.SKIHMOPFPDC3&ppt=clp&ppn=laptops-store&ssid=j5fwd6niaz0hnchs1645514684273&page=1'"
   ]
  },
  {
   "cell_type": "code",
   "execution_count": 4,
   "metadata": {},
   "outputs": [],
   "source": [
    "browser=webdriver.Firefox()"
   ]
  },
  {
   "cell_type": "code",
   "execution_count": 5,
   "metadata": {},
   "outputs": [],
   "source": [
    "browser.get(url)"
   ]
  },
  {
   "cell_type": "code",
   "execution_count": 6,
   "metadata": {},
   "outputs": [],
   "source": [
    "html=browser.page_source"
   ]
  },
  {
   "cell_type": "code",
   "execution_count": 7,
   "metadata": {},
   "outputs": [],
   "source": [
    "soup=BeautifulSoup(html,'lxml')"
   ]
  },
  {
   "cell_type": "code",
   "execution_count": 8,
   "metadata": {},
   "outputs": [
    {
     "data": {
      "text/plain": [
       "'Laptops Online - Budget Laptops at Best Prices in India at Flipkart.com'"
      ]
     },
     "execution_count": 8,
     "metadata": {},
     "output_type": "execute_result"
    }
   ],
   "source": [
    "soup.title.text"
   ]
  },
  {
   "cell_type": "code",
   "execution_count": 9,
   "metadata": {},
   "outputs": [
    {
     "data": {
      "text/plain": [
       "[<div class=\"_4rR01T\">APPLE 2020 Macbook Air M1 - (8 GB/256 GB SSD/Mac OS Big Sur) MGN63HN/A</div>,\n",
       " <div class=\"_4rR01T\">APPLE 2020 Macbook Air M1 - (8 GB/256 GB SSD/Mac OS Big Sur) MGND3HN/A</div>,\n",
       " <div class=\"_4rR01T\">APPLE 2020 Macbook Air M1 - (8 GB/256 GB SSD/Mac OS Big Sur) MGN93HN/A</div>,\n",
       " <div class=\"_4rR01T\">APPLE MacBook Air M1 - (16 GB/256 GB SSD/Mac OS Big Sur) Z124J005KD</div>,\n",
       " <div class=\"_4rR01T\">APPLE MacBook Air M1 - (16 GB/512 GB SSD/Mac OS Big Sur) Z124J003KD</div>,\n",
       " <div class=\"_4rR01T\">APPLE 2020 Macbook Air M1 - (8 GB/512 GB SSD/Mac OS Big Sur) MGN73HN/A</div>,\n",
       " <div class=\"_4rR01T\">APPLE MacBook Air M1 - (16 GB/256 GB SSD/Mac OS Big Sur) Z124J001KD</div>,\n",
       " <div class=\"_4rR01T\">APPLE 2021 Macbook Pro M1 Pro - (16 GB/512 GB SSD/Mac OS Monterey) MK183HN/A</div>,\n",
       " <div class=\"_4rR01T\">APPLE MacBook Air M1 - (16 GB/512 GB SSD/Mac OS Big Sur) Z124J006KD</div>,\n",
       " <div class=\"_4rR01T\">APPLE 2020 Macbook Pro M1 - (8 GB/512 GB SSD/Mac OS Big Sur) MYD92HN/A</div>,\n",
       " <div class=\"_4rR01T\">APPLE MacBook Air M1 - (16 GB/512 GB SSD/Mac OS Big Sur) Z124J002KD</div>,\n",
       " <div class=\"_4rR01T\">APPLE 2020 Macbook Air M1 - (8 GB/512 GB SSD/Mac OS Big Sur) MGNA3HN/A</div>,\n",
       " <div class=\"_4rR01T\">APPLE MacBook Pro with Touch Bar Core i5 10th Gen - (16 GB/1 TB SSD/Mac OS Catalina) MWP82HN/A</div>,\n",
       " <div class=\"_4rR01T\">APPLE 2020 Macbook Pro M1 - (8 GB/256 GB SSD/Mac OS Big Sur) MYD82HN/A</div>,\n",
       " <div class=\"_4rR01T\">APPLE 2020 Macbook Pro M1 - (8 GB/512 GB SSD/Mac OS Big Sur) MYDC2HN/A</div>,\n",
       " <div class=\"_4rR01T\">APPLE 2020 Macbook Pro M1 - (8 GB/256 GB SSD/Mac OS Big Sur) MYDA2HN/A</div>,\n",
       " <div class=\"_4rR01T\">APPLE MacBook Pro with Touch Bar Core i5 10th Gen - (16 GB/512 GB SSD/Mac OS Catalina) MWP72HN/A</div>,\n",
       " <div class=\"_4rR01T\">APPLE MacBook Pro with Touch Bar Core i5 10th Gen - (16 GB/1 TB SSD/Mac OS Catalina) MWP52HN/A</div>,\n",
       " <div class=\"_4rR01T\">APPLE MacBook Air M1 - (16 GB/512 GB SSD/Mac OS Big Sur) Z124J004KD</div>,\n",
       " <div class=\"_4rR01T\">APPLE MacBook Pro Core i5 8th Gen - (8 GB/512 GB SSD/Mac OS Mojave) MV972HN/A</div>,\n",
       " <div class=\"_4rR01T\">APPLE 2020 Macbook Air M1 - (8 GB/512 GB SSD/Mac OS Big Sur) MGNE3HN/A</div>,\n",
       " <div class=\"_4rR01T\">APPLE MacBook Air Core i5 10th Gen - (8 GB/512 GB SSD/Mac OS Catalina) MVH22HN/A</div>,\n",
       " <div class=\"_4rR01T\">APPLE 2021 Macbook Pro M1 Pro - (16 GB/1 TB SSD/Mac OS Monterey) MKGT3HN/A</div>,\n",
       " <div class=\"_4rR01T\">APPLE 2021 Macbook Pro M1 Pro - (16 GB/512 GB SSD/Mac OS Monterey) MKGR3HN/A</div>]"
      ]
     },
     "execution_count": 9,
     "metadata": {},
     "output_type": "execute_result"
    }
   ],
   "source": [
    "soup.select('div._4rR01T')"
   ]
  },
  {
   "cell_type": "code",
   "execution_count": 12,
   "metadata": {},
   "outputs": [
    {
     "data": {
      "text/plain": [
       "['APPLE 2020 Macbook Air M1 - (8 GB/256 GB SSD/Mac OS Big Sur) MGN63HN/A',\n",
       " 'APPLE 2020 Macbook Air M1 - (8 GB/256 GB SSD/Mac OS Big Sur) MGND3HN/A',\n",
       " 'APPLE 2020 Macbook Air M1 - (8 GB/256 GB SSD/Mac OS Big Sur) MGN93HN/A',\n",
       " 'APPLE MacBook Air M1 - (16 GB/256 GB SSD/Mac OS Big Sur) Z124J005KD',\n",
       " 'APPLE MacBook Air M1 - (16 GB/512 GB SSD/Mac OS Big Sur) Z124J003KD',\n",
       " 'APPLE 2020 Macbook Air M1 - (8 GB/512 GB SSD/Mac OS Big Sur) MGN73HN/A',\n",
       " 'APPLE MacBook Air M1 - (16 GB/256 GB SSD/Mac OS Big Sur) Z124J001KD',\n",
       " 'APPLE 2020 Macbook Pro M1 - (8 GB/512 GB SSD/Mac OS Big Sur) MYD92HN/A',\n",
       " 'APPLE 2021 Macbook Pro M1 Pro - (16 GB/512 GB SSD/Mac OS Monterey) MK183HN/A',\n",
       " 'APPLE MacBook Air M1 - (16 GB/512 GB SSD/Mac OS Big Sur) Z124J006KD',\n",
       " 'APPLE MacBook Air M1 - (16 GB/512 GB SSD/Mac OS Big Sur) Z124J002KD',\n",
       " 'APPLE 2020 Macbook Air M1 - (8 GB/512 GB SSD/Mac OS Big Sur) MGNA3HN/A',\n",
       " 'APPLE 2020 Macbook Pro M1 - (8 GB/256 GB SSD/Mac OS Big Sur) MYD82HN/A',\n",
       " 'APPLE 2020 Macbook Pro M1 - (8 GB/512 GB SSD/Mac OS Big Sur) MYDC2HN/A',\n",
       " 'APPLE 2020 Macbook Pro M1 - (8 GB/256 GB SSD/Mac OS Big Sur) MYDA2HN/A',\n",
       " 'APPLE MacBook Pro with Touch Bar Core i5 10th Gen - (16 GB/512 GB SSD/Mac OS Catalina) MWP72HN/A',\n",
       " 'APPLE MacBook Pro with Touch Bar Core i5 10th Gen - (16 GB/1 TB SSD/Mac OS Catalina) MWP52HN/A',\n",
       " 'APPLE MacBook Pro with Touch Bar Core i5 10th Gen - (16 GB/1 TB SSD/Mac OS Catalina) MWP82HN/A',\n",
       " 'APPLE MacBook Air M1 - (16 GB/512 GB SSD/Mac OS Big Sur) Z124J004KD',\n",
       " 'APPLE MacBook Pro Core i5 8th Gen - (8 GB/512 GB SSD/Mac OS Mojave) MV972HN/A',\n",
       " 'APPLE 2020 Macbook Air M1 - (8 GB/512 GB SSD/Mac OS Big Sur) MGNE3HN/A',\n",
       " 'APPLE MacBook Air Core i5 10th Gen - (8 GB/512 GB SSD/Mac OS Catalina) MVH22HN/A',\n",
       " 'APPLE 2021 Macbook Pro M1 Pro - (16 GB/1 TB SSD/Mac OS Monterey) MKGT3HN/A',\n",
       " 'APPLE 2021 Macbook Pro M1 Pro - (16 GB/512 GB SSD/Mac OS Monterey) MKGR3HN/A']"
      ]
     },
     "execution_count": 12,
     "metadata": {},
     "output_type": "execute_result"
    }
   ],
   "source": [
    "Product_Name=[i.text.strip() for i in soup.select('div._4rR01T')]\n",
    "Product_Name"
   ]
  },
  {
   "cell_type": "code",
   "execution_count": 29,
   "metadata": {},
   "outputs": [
    {
     "data": {
      "text/plain": [
       "['', '90,890', '92,9002% off']"
      ]
     },
     "execution_count": 29,
     "metadata": {},
     "output_type": "execute_result"
    }
   ],
   "source": [
    "p=soup.select('div._25b18c')[0].text.strip().split('₹')\n",
    "p"
   ]
  },
  {
   "cell_type": "code",
   "execution_count": 81,
   "metadata": {},
   "outputs": [
    {
     "data": {
      "text/plain": [
       "['90890',\n",
       " '86690',\n",
       " '88990',\n",
       " '105990',\n",
       " '127990',\n",
       " '109990',\n",
       " '105990',\n",
       " '239890',\n",
       " '119990',\n",
       " '131990',\n",
       " '119990',\n",
       " '109990',\n",
       " '113990',\n",
       " '131990',\n",
       " '113990',\n",
       " '164090',\n",
       " '189890',\n",
       " '176990',\n",
       " '127990',\n",
       " '172090',\n",
       " '109990',\n",
       " '106190',\n",
       " '219990',\n",
       " '179990']"
      ]
     },
     "execution_count": 81,
     "metadata": {},
     "output_type": "execute_result"
    }
   ],
   "source": [
    "price=[''.join(i.text.strip().split('₹')[1].split(',')) for i in soup.select('div._25b18c')]\n",
    "price"
   ]
  },
  {
   "cell_type": "code",
   "execution_count": 35,
   "metadata": {},
   "outputs": [
    {
     "data": {
      "text/plain": [
       "'4.7'"
      ]
     },
     "execution_count": 35,
     "metadata": {},
     "output_type": "execute_result"
    }
   ],
   "source": [
    "r=soup.select('div._3LWZlK')[0].text.strip()\n",
    "r"
   ]
  },
  {
   "cell_type": "code",
   "execution_count": 36,
   "metadata": {},
   "outputs": [
    {
     "data": {
      "text/plain": [
       "['4.7',\n",
       " '4.7',\n",
       " '4.7',\n",
       " '4.5',\n",
       " '4.5',\n",
       " '4.7',\n",
       " '4.5',\n",
       " '4.6',\n",
       " '4.8',\n",
       " '4.5',\n",
       " '4.5',\n",
       " '4.7',\n",
       " '4.7',\n",
       " '4.6',\n",
       " '4.7',\n",
       " '4.4',\n",
       " '4.8',\n",
       " '4.7',\n",
       " '4.5',\n",
       " '4.2',\n",
       " '4.7',\n",
       " '4.5',\n",
       " '4.8',\n",
       " '4.8']"
      ]
     },
     "execution_count": 36,
     "metadata": {},
     "output_type": "execute_result"
    }
   ],
   "source": [
    "Rating=[i.text.strip() for i in soup.select('div._3LWZlK')]\n",
    "Rating"
   ]
  },
  {
   "cell_type": "code",
   "execution_count": 58,
   "metadata": {},
   "outputs": [
    {
     "data": {
      "text/plain": [
       "'6,450'"
      ]
     },
     "execution_count": 58,
     "metadata": {},
     "output_type": "execute_result"
    }
   ],
   "source": [
    "rr=soup.select('span._2_R_DZ')[0].text.split(' ')[0]\n",
    "rr"
   ]
  },
  {
   "cell_type": "code",
   "execution_count": 61,
   "metadata": {},
   "outputs": [
    {
     "data": {
      "text/plain": [
       "['6,450',\n",
       " '6,450',\n",
       " '6,450',\n",
       " '11',\n",
       " '11',\n",
       " '756',\n",
       " '11',\n",
       " '389',\n",
       " '32',\n",
       " '11',\n",
       " '11',\n",
       " '756',\n",
       " '625',\n",
       " '389',\n",
       " '625',\n",
       " '32',\n",
       " '91',\n",
       " '31',\n",
       " '11',\n",
       " '108',\n",
       " '756',\n",
       " '435',\n",
       " '32',\n",
       " '32']"
      ]
     },
     "execution_count": 61,
     "metadata": {},
     "output_type": "execute_result"
    }
   ],
   "source": [
    "total_ratings=[i.text.split(' ')[0] for i in soup.select('span._2_R_DZ')]     \n",
    "total_ratings"
   ]
  },
  {
   "cell_type": "code",
   "execution_count": 66,
   "metadata": {},
   "outputs": [
    {
     "data": {
      "text/plain": [
       "['613',\n",
       " '613',\n",
       " '613',\n",
       " '0',\n",
       " '0',\n",
       " '91',\n",
       " '0',\n",
       " '45',\n",
       " '8',\n",
       " '0',\n",
       " '0',\n",
       " '91',\n",
       " '68',\n",
       " '45',\n",
       " '68',\n",
       " '5',\n",
       " '5',\n",
       " '3',\n",
       " '0',\n",
       " '13',\n",
       " '91',\n",
       " '40',\n",
       " '8',\n",
       " '8']"
      ]
     },
     "execution_count": 66,
     "metadata": {},
     "output_type": "execute_result"
    }
   ],
   "source": [
    "total_reviews=[i.text.split('Ratings\\xa0&\\xa0')[1].split(' ')[0] for i in soup.select('span._2_R_DZ')]     \n",
    "total_reviews"
   ]
  },
  {
   "cell_type": "code",
   "execution_count": 69,
   "metadata": {},
   "outputs": [
    {
     "data": {
      "text/plain": [
       "'Apple M1 Processor8 GB DDR4 RAMMac OS Operating System256 GB SSD33.78 cm (13.3 inch) DisplayBuilt-in Apps: iMovie, Siri, GarageBand, Pages, Numbers, Photos, Keynote, Safari, Mail, FaceTime, Messages, Maps, Stocks, Home, Voice Memos, Notes, Calendar, Contacts, Reminders, Photo Booth, Preview, Books, App Store, Time Machine, TV, Music, Podcasts, Find My, QuickTime Player1 Year Limited Warra\\xadnty'"
      ]
     },
     "execution_count": 69,
     "metadata": {},
     "output_type": "execute_result"
    }
   ],
   "source": [
    "spe=soup.select('div.fMghEO')[0].text\n",
    "spe"
   ]
  },
  {
   "cell_type": "code",
   "execution_count": 71,
   "metadata": {},
   "outputs": [],
   "source": [
    "Specification=[i.text for i in soup.select('div.fMghEO')]"
   ]
  },
  {
   "cell_type": "code",
   "execution_count": 10,
   "metadata": {},
   "outputs": [],
   "source": [
    "def Laptops_Online():\n",
    "    Product_Name=[i.text.strip() for i in soup.select('div._4rR01T')]\n",
    "    price=[''.join(i.text.strip().split('₹')[1].split(',')) for i in soup.select('div._25b18c')]\n",
    "    Rating=[i.text.strip() for i in soup.select('div._3LWZlK')]\n",
    "    total_ratings=[''.join(i.text.split(' ')[0].split(',')) for i in soup.select('span._2_R_DZ')] \n",
    "    total_reviews=[i.text.split('Ratings\\xa0&\\xa0')[1].split(' ')[0] for i in soup.select('span._2_R_DZ')]\n",
    "    Specification=[i.text for i in soup.select('div.fMghEO')]\n",
    "    return pd.DataFrame({'Product Name':Product_Name,'Price':price,'Rating out of 5':Rating,'Total no of Rating':total_ratings,'Total no of Reviews':total_reviews,'Device Specifications':Specification})\n",
    "  "
   ]
  },
  {
   "cell_type": "code",
   "execution_count": 11,
   "metadata": {},
   "outputs": [],
   "source": [
    "tables=[]\n",
    "for i in range(1,3):\n",
    "    urls=url.format(i)\n",
    "    browser.get(url)\n",
    "    html=browser.page_source\n",
    "    soup=BeautifulSoup(html,'lxml')\n",
    "    tables.append(Laptops_Online())"
   ]
  },
  {
   "cell_type": "code",
   "execution_count": 12,
   "metadata": {},
   "outputs": [
    {
     "data": {
      "text/html": [
       "<div>\n",
       "<style scoped>\n",
       "    .dataframe tbody tr th:only-of-type {\n",
       "        vertical-align: middle;\n",
       "    }\n",
       "\n",
       "    .dataframe tbody tr th {\n",
       "        vertical-align: top;\n",
       "    }\n",
       "\n",
       "    .dataframe thead th {\n",
       "        text-align: right;\n",
       "    }\n",
       "</style>\n",
       "<table border=\"1\" class=\"dataframe\">\n",
       "  <thead>\n",
       "    <tr style=\"text-align: right;\">\n",
       "      <th></th>\n",
       "      <th>Product Name</th>\n",
       "      <th>Price</th>\n",
       "      <th>Rating out of 5</th>\n",
       "      <th>Total no of Rating</th>\n",
       "      <th>Total no of Reviews</th>\n",
       "      <th>Device Specifications</th>\n",
       "    </tr>\n",
       "  </thead>\n",
       "  <tbody>\n",
       "    <tr>\n",
       "      <th>0</th>\n",
       "      <td>APPLE 2020 Macbook Air M1 - (8 GB/256 GB SSD/M...</td>\n",
       "      <td>90890</td>\n",
       "      <td>4.7</td>\n",
       "      <td>6450</td>\n",
       "      <td>613</td>\n",
       "      <td>Apple M1 Processor8 GB DDR4 RAMMac OS Operatin...</td>\n",
       "    </tr>\n",
       "    <tr>\n",
       "      <th>1</th>\n",
       "      <td>APPLE 2020 Macbook Air M1 - (8 GB/256 GB SSD/M...</td>\n",
       "      <td>86690</td>\n",
       "      <td>4.7</td>\n",
       "      <td>6450</td>\n",
       "      <td>613</td>\n",
       "      <td>Apple M1 Processor8 GB DDR4 RAMMac OS Operatin...</td>\n",
       "    </tr>\n",
       "    <tr>\n",
       "      <th>2</th>\n",
       "      <td>APPLE 2020 Macbook Air M1 - (8 GB/256 GB SSD/M...</td>\n",
       "      <td>88990</td>\n",
       "      <td>4.7</td>\n",
       "      <td>6450</td>\n",
       "      <td>613</td>\n",
       "      <td>Apple M1 Processor8 GB DDR4 RAMMac OS Operatin...</td>\n",
       "    </tr>\n",
       "    <tr>\n",
       "      <th>3</th>\n",
       "      <td>APPLE MacBook Air M1 - (16 GB/256 GB SSD/Mac O...</td>\n",
       "      <td>105990</td>\n",
       "      <td>4.5</td>\n",
       "      <td>11</td>\n",
       "      <td>0</td>\n",
       "      <td>Apple M1 Processor16 GB DDR4 RAMMac OS Operati...</td>\n",
       "    </tr>\n",
       "    <tr>\n",
       "      <th>4</th>\n",
       "      <td>APPLE MacBook Air M1 - (16 GB/512 GB SSD/Mac O...</td>\n",
       "      <td>127990</td>\n",
       "      <td>4.5</td>\n",
       "      <td>11</td>\n",
       "      <td>0</td>\n",
       "      <td>Apple M1 Processor16 GB DDR4 RAMMac OS Operati...</td>\n",
       "    </tr>\n",
       "  </tbody>\n",
       "</table>\n",
       "</div>"
      ],
      "text/plain": [
       "                                        Product Name   Price Rating out of 5  \\\n",
       "0  APPLE 2020 Macbook Air M1 - (8 GB/256 GB SSD/M...   90890             4.7   \n",
       "1  APPLE 2020 Macbook Air M1 - (8 GB/256 GB SSD/M...   86690             4.7   \n",
       "2  APPLE 2020 Macbook Air M1 - (8 GB/256 GB SSD/M...   88990             4.7   \n",
       "3  APPLE MacBook Air M1 - (16 GB/256 GB SSD/Mac O...  105990             4.5   \n",
       "4  APPLE MacBook Air M1 - (16 GB/512 GB SSD/Mac O...  127990             4.5   \n",
       "\n",
       "  Total no of Rating Total no of Reviews  \\\n",
       "0               6450                 613   \n",
       "1               6450                 613   \n",
       "2               6450                 613   \n",
       "3                 11                   0   \n",
       "4                 11                   0   \n",
       "\n",
       "                               Device Specifications  \n",
       "0  Apple M1 Processor8 GB DDR4 RAMMac OS Operatin...  \n",
       "1  Apple M1 Processor8 GB DDR4 RAMMac OS Operatin...  \n",
       "2  Apple M1 Processor8 GB DDR4 RAMMac OS Operatin...  \n",
       "3  Apple M1 Processor16 GB DDR4 RAMMac OS Operati...  \n",
       "4  Apple M1 Processor16 GB DDR4 RAMMac OS Operati...  "
      ]
     },
     "execution_count": 12,
     "metadata": {},
     "output_type": "execute_result"
    }
   ],
   "source": [
    "Laptops=pd.concat(tables,axis=0)\n",
    "Laptops.head()"
   ]
  },
  {
   "cell_type": "code",
   "execution_count": 86,
   "metadata": {},
   "outputs": [
    {
     "data": {
      "text/plain": [
       "(48, 6)"
      ]
     },
     "execution_count": 86,
     "metadata": {},
     "output_type": "execute_result"
    }
   ],
   "source": [
    "Laptops.shape"
   ]
  },
  {
   "cell_type": "code",
   "execution_count": 13,
   "metadata": {},
   "outputs": [
    {
     "name": "stdout",
     "output_type": "stream",
     "text": [
      "<class 'pandas.core.frame.DataFrame'>\n",
      "Int64Index: 48 entries, 0 to 23\n",
      "Data columns (total 6 columns):\n",
      " #   Column                 Non-Null Count  Dtype \n",
      "---  ------                 --------------  ----- \n",
      " 0   Product Name           48 non-null     object\n",
      " 1   Price                  48 non-null     object\n",
      " 2   Rating out of 5        48 non-null     object\n",
      " 3   Total no of Rating     48 non-null     object\n",
      " 4   Total no of Reviews    48 non-null     object\n",
      " 5   Device Specifications  48 non-null     object\n",
      "dtypes: object(6)\n",
      "memory usage: 2.6+ KB\n"
     ]
    }
   ],
   "source": [
    "Laptops.info()"
   ]
  },
  {
   "cell_type": "code",
   "execution_count": 14,
   "metadata": {},
   "outputs": [],
   "source": [
    "Laptops['Price']=Laptops['Price'].astype('int64')\n",
    "Laptops['Total no of Reviews']=Laptops['Total no of Reviews'].astype('int64')\n",
    "Laptops['Rating out of 5']=Laptops['Rating out of 5'].astype('float64')\n",
    "Laptops['Total no of Rating']=Laptops['Total no of Rating'].astype('int64')\n",
    "Laptops['Device Specifications']=Laptops['Device Specifications'].astype('category')"
   ]
  },
  {
   "cell_type": "code",
   "execution_count": 15,
   "metadata": {},
   "outputs": [
    {
     "name": "stdout",
     "output_type": "stream",
     "text": [
      "<class 'pandas.core.frame.DataFrame'>\n",
      "Int64Index: 48 entries, 0 to 23\n",
      "Data columns (total 6 columns):\n",
      " #   Column                 Non-Null Count  Dtype   \n",
      "---  ------                 --------------  -----   \n",
      " 0   Product Name           48 non-null     object  \n",
      " 1   Price                  48 non-null     int64   \n",
      " 2   Rating out of 5        48 non-null     float64 \n",
      " 3   Total no of Rating     48 non-null     int64   \n",
      " 4   Total no of Reviews    48 non-null     int64   \n",
      " 5   Device Specifications  48 non-null     category\n",
      "dtypes: category(1), float64(1), int64(3), object(1)\n",
      "memory usage: 2.7+ KB\n"
     ]
    }
   ],
   "source": [
    "Laptops.info()"
   ]
  },
  {
   "cell_type": "code",
   "execution_count": 16,
   "metadata": {},
   "outputs": [
    {
     "data": {
      "text/html": [
       "<div>\n",
       "<style scoped>\n",
       "    .dataframe tbody tr th:only-of-type {\n",
       "        vertical-align: middle;\n",
       "    }\n",
       "\n",
       "    .dataframe tbody tr th {\n",
       "        vertical-align: top;\n",
       "    }\n",
       "\n",
       "    .dataframe thead th {\n",
       "        text-align: right;\n",
       "    }\n",
       "</style>\n",
       "<table border=\"1\" class=\"dataframe\">\n",
       "  <thead>\n",
       "    <tr style=\"text-align: right;\">\n",
       "      <th></th>\n",
       "      <th>Product Name</th>\n",
       "      <th>Price</th>\n",
       "      <th>Rating out of 5</th>\n",
       "      <th>Total no of Rating</th>\n",
       "      <th>Total no of Reviews</th>\n",
       "      <th>Device Specifications</th>\n",
       "    </tr>\n",
       "  </thead>\n",
       "  <tbody>\n",
       "    <tr>\n",
       "      <th>0</th>\n",
       "      <td>APPLE 2020 Macbook Air M1 - (8 GB/256 GB SSD/M...</td>\n",
       "      <td>90890</td>\n",
       "      <td>4.7</td>\n",
       "      <td>6450</td>\n",
       "      <td>613</td>\n",
       "      <td>Apple M1 Processor8 GB DDR4 RAMMac OS Operatin...</td>\n",
       "    </tr>\n",
       "    <tr>\n",
       "      <th>1</th>\n",
       "      <td>APPLE 2020 Macbook Air M1 - (8 GB/256 GB SSD/M...</td>\n",
       "      <td>86690</td>\n",
       "      <td>4.7</td>\n",
       "      <td>6450</td>\n",
       "      <td>613</td>\n",
       "      <td>Apple M1 Processor8 GB DDR4 RAMMac OS Operatin...</td>\n",
       "    </tr>\n",
       "    <tr>\n",
       "      <th>2</th>\n",
       "      <td>APPLE 2020 Macbook Air M1 - (8 GB/256 GB SSD/M...</td>\n",
       "      <td>88990</td>\n",
       "      <td>4.7</td>\n",
       "      <td>6450</td>\n",
       "      <td>613</td>\n",
       "      <td>Apple M1 Processor8 GB DDR4 RAMMac OS Operatin...</td>\n",
       "    </tr>\n",
       "    <tr>\n",
       "      <th>3</th>\n",
       "      <td>APPLE MacBook Air M1 - (16 GB/256 GB SSD/Mac O...</td>\n",
       "      <td>105990</td>\n",
       "      <td>4.5</td>\n",
       "      <td>11</td>\n",
       "      <td>0</td>\n",
       "      <td>Apple M1 Processor16 GB DDR4 RAMMac OS Operati...</td>\n",
       "    </tr>\n",
       "    <tr>\n",
       "      <th>4</th>\n",
       "      <td>APPLE MacBook Air M1 - (16 GB/512 GB SSD/Mac O...</td>\n",
       "      <td>127990</td>\n",
       "      <td>4.5</td>\n",
       "      <td>11</td>\n",
       "      <td>0</td>\n",
       "      <td>Apple M1 Processor16 GB DDR4 RAMMac OS Operati...</td>\n",
       "    </tr>\n",
       "  </tbody>\n",
       "</table>\n",
       "</div>"
      ],
      "text/plain": [
       "                                        Product Name   Price  Rating out of 5  \\\n",
       "0  APPLE 2020 Macbook Air M1 - (8 GB/256 GB SSD/M...   90890              4.7   \n",
       "1  APPLE 2020 Macbook Air M1 - (8 GB/256 GB SSD/M...   86690              4.7   \n",
       "2  APPLE 2020 Macbook Air M1 - (8 GB/256 GB SSD/M...   88990              4.7   \n",
       "3  APPLE MacBook Air M1 - (16 GB/256 GB SSD/Mac O...  105990              4.5   \n",
       "4  APPLE MacBook Air M1 - (16 GB/512 GB SSD/Mac O...  127990              4.5   \n",
       "\n",
       "   Total no of Rating  Total no of Reviews  \\\n",
       "0                6450                  613   \n",
       "1                6450                  613   \n",
       "2                6450                  613   \n",
       "3                  11                    0   \n",
       "4                  11                    0   \n",
       "\n",
       "                               Device Specifications  \n",
       "0  Apple M1 Processor8 GB DDR4 RAMMac OS Operatin...  \n",
       "1  Apple M1 Processor8 GB DDR4 RAMMac OS Operatin...  \n",
       "2  Apple M1 Processor8 GB DDR4 RAMMac OS Operatin...  \n",
       "3  Apple M1 Processor16 GB DDR4 RAMMac OS Operati...  \n",
       "4  Apple M1 Processor16 GB DDR4 RAMMac OS Operati...  "
      ]
     },
     "execution_count": 16,
     "metadata": {},
     "output_type": "execute_result"
    }
   ],
   "source": [
    "Laptops.head()"
   ]
  },
  {
   "cell_type": "code",
   "execution_count": null,
   "metadata": {},
   "outputs": [],
   "source": []
  }
 ],
 "metadata": {
  "kernelspec": {
   "display_name": "Python 3",
   "language": "python",
   "name": "python3"
  },
  "language_info": {
   "codemirror_mode": {
    "name": "ipython",
    "version": 3
   },
   "file_extension": ".py",
   "mimetype": "text/x-python",
   "name": "python",
   "nbconvert_exporter": "python",
   "pygments_lexer": "ipython3",
   "version": "3.8.5"
  }
 },
 "nbformat": 4,
 "nbformat_minor": 4
}
